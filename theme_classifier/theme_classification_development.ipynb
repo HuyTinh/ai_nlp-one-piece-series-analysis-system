{
 "cells": [
  {
   "cell_type": "code",
   "execution_count": 1,
   "metadata": {},
   "outputs": [],
   "source": [
    "from transformers import pipeline\n",
    "from nltk.tokenize import sent_tokenize,word_tokenize\n",
    "import nltk\n",
    "import torch\n",
    "from glob import glob\n",
    "import pandas as pd\n",
    "import numpy as np"
   ]
  },
  {
   "cell_type": "code",
   "execution_count": 2,
   "metadata": {},
   "outputs": [
    {
     "name": "stderr",
     "output_type": "stream",
     "text": [
      "[nltk_data] Downloading package punkt to\n",
      "[nltk_data]     C:\\Users\\HuyTinh\\AppData\\Roaming\\nltk_data...\n",
      "[nltk_data]   Package punkt is already up-to-date!\n",
      "[nltk_data] Downloading package punkt_tab to\n",
      "[nltk_data]     C:\\Users\\HuyTinh\\AppData\\Roaming\\nltk_data...\n",
      "[nltk_data]   Package punkt_tab is already up-to-date!\n"
     ]
    },
    {
     "data": {
      "text/plain": [
       "True"
      ]
     },
     "execution_count": 2,
     "metadata": {},
     "output_type": "execute_result"
    }
   ],
   "source": [
    "nltk.download(\"punkt\")\n",
    "nltk.download(\"punkt_tab\")"
   ]
  },
  {
   "cell_type": "markdown",
   "metadata": {},
   "source": [
    "# Load Model"
   ]
  },
  {
   "cell_type": "code",
   "execution_count": 3,
   "metadata": {},
   "outputs": [],
   "source": [
    "model_name = \"facebook/bart-large-mnli\"\n",
    "device = 0 if torch.cuda.is_available() else \"cpu\""
   ]
  },
  {
   "cell_type": "code",
   "execution_count": 4,
   "metadata": {},
   "outputs": [],
   "source": [
    "def load_model(device):\n",
    "    theme_classifier = pipeline(\n",
    "        task=\"zero-shot-classification\",\n",
    "        model=model_name,\n",
    "        device=device  # Set to 0 for GPU, -1 for CPU\n",
    "    )\n",
    "    return theme_classifier"
   ]
  },
  {
   "cell_type": "code",
   "execution_count": 5,
   "metadata": {},
   "outputs": [
    {
     "name": "stdout",
     "output_type": "stream",
     "text": [
      "WARNING:tensorflow:From d:\\personal-project\\ai_nlp-one-piece-series-analysis-system\\venv\\Lib\\site-packages\\tf_keras\\src\\losses.py:2976: The name tf.losses.sparse_softmax_cross_entropy is deprecated. Please use tf.compat.v1.losses.sparse_softmax_cross_entropy instead.\n",
      "\n"
     ]
    }
   ],
   "source": [
    "theme_classifier = load_model(device)"
   ]
  },
  {
   "cell_type": "code",
   "execution_count": 6,
   "metadata": {},
   "outputs": [],
   "source": [
    "theme_list = [\"firendship\",\"battle\", \"seft development\", \"love\", \"sacrifice\", \"hope\"]"
   ]
  },
  {
   "cell_type": "code",
   "execution_count": 7,
   "metadata": {},
   "outputs": [
    {
     "data": {
      "text/plain": [
       "{'sequence': 'I gave him a right hook then a left jab',\n",
       " 'labels': ['battle',\n",
       "  'firendship',\n",
       "  'seft development',\n",
       "  'hope',\n",
       "  'sacrifice',\n",
       "  'love'],\n",
       " 'scores': [0.9121252298355103,\n",
       "  0.6396022439002991,\n",
       "  0.5008586645126343,\n",
       "  0.08781788498163223,\n",
       "  0.04500041902065277,\n",
       "  0.004292412661015987]}"
      ]
     },
     "execution_count": 7,
     "metadata": {},
     "output_type": "execute_result"
    }
   ],
   "source": [
    "theme_classifier(\n",
    "    \"I gave him a right hook then a left jab\",\n",
    "    theme_list,\n",
    "    multi_label=True\n",
    ")"
   ]
  },
  {
   "cell_type": "markdown",
   "metadata": {},
   "source": [
    "# Load Dataset"
   ]
  },
  {
   "cell_type": "code",
   "execution_count": 8,
   "metadata": {},
   "outputs": [],
   "source": [
    "files = glob('../data/subtitles/*.ass')"
   ]
  },
  {
   "cell_type": "code",
   "execution_count": 9,
   "metadata": {},
   "outputs": [
    {
     "data": {
      "text/plain": [
       "['../data/subtitles\\\\01.ass',\n",
       " '../data/subtitles\\\\02.ass',\n",
       " '../data/subtitles\\\\03.ass',\n",
       " '../data/subtitles\\\\04.ass',\n",
       " '../data/subtitles\\\\05.ass']"
      ]
     },
     "execution_count": 9,
     "metadata": {},
     "output_type": "execute_result"
    }
   ],
   "source": [
    "files[:5]"
   ]
  },
  {
   "cell_type": "code",
   "execution_count": 10,
   "metadata": {},
   "outputs": [],
   "source": [
    "with open(files[0], 'r') as file:\n",
    "    lines = file.readlines()\n",
    "    lines = lines[26:]\n",
    "    lines = [\",\".join(line.split(\",\")[9:]) for line in lines]\n",
    "    lines = [line.replace(\"\\\\N\",\"\") for line in lines]"
   ]
  },
  {
   "cell_type": "code",
   "execution_count": 11,
   "metadata": {},
   "outputs": [
    {
     "data": {
      "text/plain": [
       "['Wealth, fame, power...\\n', 'Gold Roger,the King of the Pirates,\\n']"
      ]
     },
     "execution_count": 11,
     "metadata": {},
     "output_type": "execute_result"
    }
   ],
   "source": [
    "lines[:2]"
   ]
  },
  {
   "cell_type": "code",
   "execution_count": 12,
   "metadata": {},
   "outputs": [
    {
     "data": {
      "text/plain": [
       "\"Wealth, fame, power...\\n Gold Roger,the King of the Pirates,\\n attained everythingthis world has to offer.\\n The words he uttered just beforehis death drove people to the seas.\\n My treasure?If you want it, you can have it!\\n Find it! I left everythingthis world has to offer there!\\n And so men head for theGrand Line in pursuit of their dreams!\\n The world has trulyentered a Great Pirate Era!\\n We're going to gather upall our dreams\\n and set out in searchof something to find\\n\""
      ]
     },
     "execution_count": 12,
     "metadata": {},
     "output_type": "execute_result"
    }
   ],
   "source": [
    "\" \".join(lines[:10])"
   ]
  },
  {
   "cell_type": "code",
   "execution_count": 13,
   "metadata": {},
   "outputs": [
    {
     "data": {
      "text/plain": [
       "1"
      ]
     },
     "execution_count": 13,
     "metadata": {},
     "output_type": "execute_result"
    }
   ],
   "source": [
    "int(files[0].split(\"\\\\\")[-1].split(\".\")[0])"
   ]
  },
  {
   "cell_type": "code",
   "execution_count": 14,
   "metadata": {},
   "outputs": [],
   "source": [
    "def load_subtitles_dataset(dataset_path):\n",
    "    subtitles_path = glob(dataset_path + '/*.ass')\n",
    "    \n",
    "    scripts = []\n",
    "    episode_nums = []\n",
    "    \n",
    "    for path in subtitles_path:\n",
    "        \n",
    "        #Read lines\n",
    "        with open(files[0], 'r') as file:\n",
    "            lines = file.readlines()\n",
    "            lines = lines[26:]\n",
    "            lines = [\",\".join(line.split(\",\")[9:]) for line in lines]\n",
    "            \n",
    "        lines = [line.replace(\"\\\\N\",\"\") for line in lines]\n",
    "        script = \" \".join(lines)\n",
    "        \n",
    "        episode = int(path.split(\"\\\\\")[-1].split(\".\")[0])\n",
    "        \n",
    "        scripts.append(script)\n",
    "        episode_nums.append(episode)\n",
    "        \n",
    "    \n",
    "    df = pd.DataFrame.from_dict({\"episode\": episode_nums, \"script\": scripts})\n",
    "    \n",
    "    return df"
   ]
  },
  {
   "cell_type": "code",
   "execution_count": 15,
   "metadata": {},
   "outputs": [],
   "source": [
    "dataset_path = \"../data/subtitles\"\n",
    "df = load_subtitles_dataset(dataset_path)"
   ]
  },
  {
   "cell_type": "code",
   "execution_count": 16,
   "metadata": {},
   "outputs": [
    {
     "data": {
      "text/html": [
       "<div>\n",
       "<style scoped>\n",
       "    .dataframe tbody tr th:only-of-type {\n",
       "        vertical-align: middle;\n",
       "    }\n",
       "\n",
       "    .dataframe tbody tr th {\n",
       "        vertical-align: top;\n",
       "    }\n",
       "\n",
       "    .dataframe thead th {\n",
       "        text-align: right;\n",
       "    }\n",
       "</style>\n",
       "<table border=\"1\" class=\"dataframe\">\n",
       "  <thead>\n",
       "    <tr style=\"text-align: right;\">\n",
       "      <th></th>\n",
       "      <th>episode</th>\n",
       "      <th>script</th>\n",
       "    </tr>\n",
       "  </thead>\n",
       "  <tbody>\n",
       "    <tr>\n",
       "      <th>0</th>\n",
       "      <td>1</td>\n",
       "      <td>Wealth, fame, power...\\n Gold Roger,the King o...</td>\n",
       "    </tr>\n",
       "    <tr>\n",
       "      <th>1</th>\n",
       "      <td>2</td>\n",
       "      <td>Wealth, fame, power...\\n Gold Roger,the King o...</td>\n",
       "    </tr>\n",
       "    <tr>\n",
       "      <th>2</th>\n",
       "      <td>3</td>\n",
       "      <td>Wealth, fame, power...\\n Gold Roger,the King o...</td>\n",
       "    </tr>\n",
       "    <tr>\n",
       "      <th>3</th>\n",
       "      <td>4</td>\n",
       "      <td>Wealth, fame, power...\\n Gold Roger,the King o...</td>\n",
       "    </tr>\n",
       "    <tr>\n",
       "      <th>4</th>\n",
       "      <td>5</td>\n",
       "      <td>Wealth, fame, power...\\n Gold Roger,the King o...</td>\n",
       "    </tr>\n",
       "  </tbody>\n",
       "</table>\n",
       "</div>"
      ],
      "text/plain": [
       "   episode                                             script\n",
       "0        1  Wealth, fame, power...\\n Gold Roger,the King o...\n",
       "1        2  Wealth, fame, power...\\n Gold Roger,the King o...\n",
       "2        3  Wealth, fame, power...\\n Gold Roger,the King o...\n",
       "3        4  Wealth, fame, power...\\n Gold Roger,the King o...\n",
       "4        5  Wealth, fame, power...\\n Gold Roger,the King o..."
      ]
     },
     "execution_count": 16,
     "metadata": {},
     "output_type": "execute_result"
    }
   ],
   "source": [
    "df.head()"
   ]
  },
  {
   "cell_type": "markdown",
   "metadata": {},
   "source": [
    "# Run Model"
   ]
  },
  {
   "cell_type": "code",
   "execution_count": 17,
   "metadata": {},
   "outputs": [],
   "source": [
    "script = df.iloc[0][\"script\"]"
   ]
  },
  {
   "cell_type": "code",
   "execution_count": 18,
   "metadata": {},
   "outputs": [
    {
     "data": {
      "text/plain": [
       "'Wealth, fame, power...\\n Gold Roger,the King of the Pirates,\\n attained everythingthis world has to offer.\\n The words he uttered just beforehis death drove people to the seas.\\n My treasure?If you want it, you can have it!\\n Find it! I left everythingthis world has to offer there!\\n And so men head for theGrand Line in pursuit of their dreams!\\n The world has trulyentered a Great Pirate Era!\\n We\\'re going to gather upall our dreams\\n and set out in searchof something to find\\n ONE PIECE!\\n Compasses only cause delays\\n Delirious with fever,I take the helm\\n If the dusty treasure map hasbeen verified, it\\'s not a legend!\\n When it comes to personal storms,\\n simply ride aboardsomeone else\\'s biorhythm\\n and pretend it isn\\'t there!\\n We\\'re going to gather upall our dreams\\n and set out in searchof something to find\\n A coin in my pocket,and do you wanna be my friend?\\n We are, We are on the cruise!\\n We are!\\n Whoa...\\n \"I\\'m Luffy! The Man Who\\'sGonna be King of the Pirates!\"\\n No worries!\\n A whirlpool of that sizeposes no problem to this ship!\\n Miss.\\n May I have this dance?\\n Alright!\\n Not again...\\n Batter out!\\n What\\'re you doing? You suck!\\n This thing\\'s heavy!\\n Must be filled with booze, then!\\n It\\'s all ours now!\\n Ship off the starboard stern!\\n There\\'s a pirate flag on its mast!\\n It\\'s a pirate ship!Enemy raid! Enemy raid!\\n Captain! Pirates!\\n What?!\\n Everyone, stay calm!\\n Stay calm!\\n Follow instructionsin a calm manner!\\n Fire!\\n Coby!\\n Y-Yes, ma\\'am?!\\n Who\\'s the most beautifulof all on these seas?\\n T-This ship\\'s captain,Alvida-sama, of course!\\n Well done!\\n T-Thank you!\\n Alvida-sama.This is our first prey in a while.\\n That\\'s right!\\n Alright! Start pounding the ship!\\n Men! Show them the terror ofIron Club Alvida, the woman pirate!\\n Coby! What\\'re you doing?!\\n I-I\\'m not goodat this sort of thing...\\n Hmm?! Are you tryin\\'to give me backtalk?!\\n P-Please, anything but the club!\\n Then get yer ass in gear!\\n We won\\'t take yer lives, butwe will take all yer valuables!\\n Anyone who tries to fight back\\'llwind up at the bottom of the ocean!\\n Hello...\\n There\\'s no one in here, right?\\n What a relief...\\n That\\'s a rather large barrel...\\n Who\\'re you?!Never seen you before!\\n Hey, coward!\\n Are you hidin\\' out in aplace like this again?!\\n N-No! I thought I\\'d haul thisbig barrel of alcohol over...\\n We\\'ll lighten it for ya!\\n I was just feelin\\' thirsty!\\n You can\\'t! Alvida-samawill kill us if she finds out!\\n Then you just needto keep yer mouth shut!\\n Right, Coby?\\n Y-Yes! You\\'re right!\\n Thing\\'s pretty heavy!\\n Can\\'t wait!\\n Hold yer horses!I\\'ll bust it right open!\\n I slept great!\\n Huh?\\n Who\\'re you guys?\\n No, who are you?!\\n That guy\\'s gonna catch coldif he sleeps there, y\\'know.\\n You did that!\\n Are you toyin\\' with us evenwhen you know we\\'re pirates?!\\n Man, I\\'m hungry!You got any food?\\n Listen when people are talking!\\n You damn kid!\\n Die!\\n What\\'s the big idea?\\n W-Who are you?!\\n Me?\\n I\\'m Monkey D. Luffy.Nice to meetcha!\\n What the... What just happened?\\n What\\'s with them?\\n R-Run, hurry! If they come backwith their friends, you\\'ll be killed!\\n But man, I sure am hungry!\\n How can you be so carefree?!\\n There are still lotsmore of them up on deck!\\n C\\'mon! This way!\\n H-H-Hey! Not this way!\\n Food! Food! Food! Yes! Food!\\n Actually, they mightnot find us in here!\\n Which should I choose?This box? Ooh, jackpot!\\n These look great!\\n M-My name is Coby.You\\'re Luffy-san, right?\\n That was incredible just now!How did you do that?!\\n These things are great!\\n Is this a pirate ship?\\n No, it\\'s a passenger ship that\\'sbeing raided by Alvida-sama.\\n Well, it doesn\\'t matter.\\n Do you know if thereare any boats onboard?\\n I-I think so...\\n My ship got swallowedby this giant whirlpool...\\n You mean that whirlpool?!No one could survive that!\\n Boy, was that a real surprise!\\n Are you one of those pirates, too?\\n It was on that fateful day...\\n That day, I got in a boat onthe outskirts of town to go fishing...\\n ...but it turned out the boat wasactually headed for a pirate ship.\\n It\\'s been two years since...\\n In exchange for my life,I\\'ve been forced to be a chore boy.\\n Man, you\\'re dumb and stupid!\\n You\\'re brutally honest...\\n If you don\\'t like it, then run away!\\n I-I can\\'t! No way! No way!\\n Just the thoughtof Alvida-sama finding me...\\n ...frightens me and makesme weak in the knees--\\n Oh, you\\'re a wimp, too?\\n Man, I hate you!\\n Hey, now! Quit dawdling!\\n Haul it all off beforethe navy gets here!\\n Anyone caught dawdlinggets a taste of my iron club!\\n --What a haul!--Seems like a pretty rich ship!\\n Hey! You\\'ll get the clubif she catches you slackin\\' off!\\n Oh, whoops!\\n Yeah, one hit fromthat and you\\'re a goner!\\n Alvida-sama!\\n It\\'s bad!\\n What is it?! You\\'re annoying me!\\n A b-b-barrel!\\n M-M-Monster!\\n Huh?!\\n Who\\'re you calling a monster?!\\n N-No... Some weird guypopped out of a barrel...\\n He might be...a bounty hunter...\\n What?!\\n Yeah... That\\'s right...\\n If only I had the courage todrift the ocean in a barrel...\\n ...there\\'s actuallysomething I want to do, too...\\n Umm... What compelled youto set out onto the sea, Luffy-san?\\n I\\'m gonna bethe King of the Pirates!\\n --K-K-King of the Pirates?!--Yep.\\n --Are you serious?!--Yeah.\\n Wait, you\\'re a pirate, Luffy-san?!\\n Yep.\\n What about your crew?!\\n Don\\'t got one.I\\'m just about to look for one.\\n K-K-King of the Pirates isthe title given to the person...\\n ...who obtains everything in this world!\\n That means seeking the greattreasure of wealth, fame, and power...\\n ...the One Piece!\\n Yup!\\n Yup?! Pirates all over theworld are after that treasure!\\n Me too!\\n No way! No way, no way, no way!Absolutely no way!\\n There\\'s no way you can stand atthe apex of this Great Pirate Era!\\n No way! No way!\\n Why did you hit me?\\n Just because.\\n But it\\'s all right.I\\'m used to it now...\\n It\\'s not about whether I can or not.\\n I\\'m gonna do it because I want to.\\n I\\'ve decided to be the King of the Pirates,\\n so if I die fighting for that,that\\'s fine with me!\\n Now, then! My belly\\'s full--guess I\\'ll go get me a boat!\\n I wonder if they\\'ll give me one if I ask.\\n Hopefully they\\'re generous.\\n I never once thought about it...\\n Do you suppose I can do it, too?\\n If I\\'m prepared to die for it?\\n Do what?\\n Do you think...even I could join the navy?\\n Navy?\\n Yes! Catching bad guys is my dream!\\n It\\'s been my dream ever since Iwas little! Do you think I can do it?!\\n How should I know?\\n No! I\\'ll do it! If I\\'m gonna be achore boy for the rest of my life,\\n then I\\'ll break out of here andcatch even Alvida-sama-- no, Alvida!\\n You\\'re gonna team upwith him to catch who?!\\n Huh, Coby?!\\n You don\\'t seem to be Zoro, the pirate hunter.\\n Zoro?\\n Coby!\\n Who\\'s the most beautifulof all on these seas?!\\n O-Of course that would be--\\n Who\\'s this big chunky lady?\\n --Chunky?--Not good...\\n You runt!\\n Let\\'s go!\\n Why, you...\\n Whoops!\\n It\\'s not fair to attack from behind!\\n It\\'s not fair to attack all at once!\\n Gotcha!\\n Gum-Gum...\\n ...Rocket!\\n What?!\\n L-Luffy-san... What are you?\\n Me?\\n I\\'m a rubber person!\\n A rubber person?You can\\'t be serious!\\n You\\'ve eaten a Devil\\'s Fruit, haven\\'t you?\\n Yeah! The Gum-Gum Fruit!\\n I see! I\\'d heard the rumors,but I guess they really do exist!\\n You also seem pretty skilled.You a bounty hunter?\\n I\\'m a pirate!\\n A pirate?! Hah!All by yourself?!\\n It\\'s just me right now, but I\\'llfind some more sooner or later!\\n Yeah... Ten crewmen sounds good to me!\\n Ah, so you\\'re a pirate too, huh?!\\n Then that means youand me are enemies, huh?\\n --L-Luffy-san! Let\\'s get out of here!--Why?\\n You saw how powerful her club is!\\n In these waters, she\\'s the most--\\n I\\'ve decided to bethe King of the Pirates,\\n so if I die fighting for that,that\\'s fine with me!\\n I\\'m the most what?!\\n T-T-The...\\n The most ugly,cragged old hag ever!\\n What did you say?!\\n I... I\\'m going to join the navy!\\n And then I\\'m gonna beat up pirates!\\n Do you even knowwhat you\\'re saying?!\\n I do! I\\'m gonna dowhat I want to do!\\n I\\'m gonna...I\\'m gonna join the navy...\\n ...and catch your lousy ass!\\n You damn pipsqueak!\\n No regrets! No regrets!I said it! I fought! For my dream!\\n Well said!\\n That doesn\\'t work!\\n What?!\\n \\'Cause I\\'m rubber!\\n Gum-Gum...\\n ...Pistol!\\n The sky is so blue...\\n Hey!\\n --Yes?!--Yes?!\\n Give Coby a small boat!\\n He\\'s gonna join the navy!Keep your mouths shut and let him go!\\n --R-Right!--R-Right!\\n Luffy-san!\\n It\\'s the navy!\\n Oh, perfect timing!You should go see \\'em!\\n But I\\'m a pirate! I\\'m outta here!\\n Get serious!\\n I can\\'t just join the navy like this!\\n I\\'ll be captured instead!\\n Looks like we managed to get away...\\n Whew, that was fun!\\n Umm, Luffy-san.\\n If you\\'re heading for the One Piece,\\n --that means you\\'re goingto the Grand Line, right?--Yeah.\\n That place is also referred toas a pirate graveyard, you know.\\n Yeah. That\\'s why I need a strong crew.\\n What about that pirate hunter guy?What\\'s he like?\\n You mean Zoro? I heard he\\'sbeing held prisoner at a navy base.\\n Aw, he\\'s a weakling?\\n Nothing of the sort!He\\'s as terrifying as a demon!\\n Why are you asking about him?\\n Thought I might have him joinmy crew if he\\'s a good guy!\\n You\\'re being reckless again!\\n C\\'mon, he might be a good guy!\\n He\\'s been caughtbecause he\\'s a bad guy!\\n No! No way, no way, no way!Absolutely no--\\n Why did you hit me?\\n Just because!\\n \"To be continued\"\\n When I was little, I hada vision of a treasure map\\n and I always searchedfor that miraculous place\\n before someone else couldbeat me to it\\n If the world is going to change\\n before I can even attain my dream\\n then take me to the timewhen I knew nothing\\n so that my memories won\\'t fade\\n Hey! I\\'ll untie your ropes,so join my crew!\\n I refuse to team up with a pirate!\\n Oh, come on. You\\'re alreadyknown as an evil bounty hunter.\\n Screw that! I ain\\'t done a singlething I regret! And I never will!\\n So I ain\\'t gonna be a pirate!\\n I\\'ve decided you\\'re gonna join me!\\n Quit deciding on your own!\\n On the next episode of One Piece!\\n \"Enter the Great Swordsman!Pirate Hunter Roronoa Zoro\"\\n I\\'m gonna be King of the Pirates!\\n'"
      ]
     },
     "execution_count": 18,
     "metadata": {},
     "output_type": "execute_result"
    }
   ],
   "source": [
    "script"
   ]
  },
  {
   "cell_type": "code",
   "execution_count": 19,
   "metadata": {},
   "outputs": [
    {
     "data": {
      "text/plain": [
       "['Wealth, fame, power...\\n Gold Roger,the King of the Pirates,\\n attained everythingthis world has to offer.',\n",
       " 'The words he uttered just beforehis death drove people to the seas.']"
      ]
     },
     "execution_count": 19,
     "metadata": {},
     "output_type": "execute_result"
    }
   ],
   "source": [
    "script_sentences = sent_tokenize(script)\n",
    "script_sentences[:2]"
   ]
  },
  {
   "cell_type": "code",
   "execution_count": 20,
   "metadata": {},
   "outputs": [],
   "source": [
    "# Batch Sentence\n",
    "sentence_batch_size = 20\n",
    "script_batches = []\n",
    "for index in range(0, len(script_sentences), sentence_batch_size):\n",
    "    sent = \" \".join(script_sentences[index:index+sentence_batch_size])\n",
    "    script_batches.append(sent)"
   ]
  },
  {
   "cell_type": "code",
   "execution_count": 21,
   "metadata": {},
   "outputs": [
    {
     "data": {
      "text/plain": [
       "['Wealth, fame, power...\\n Gold Roger,the King of the Pirates,\\n attained everythingthis world has to offer. The words he uttered just beforehis death drove people to the seas. My treasure?If you want it, you can have it! Find it! I left everythingthis world has to offer there! And so men head for theGrand Line in pursuit of their dreams! The world has trulyentered a Great Pirate Era! We\\'re going to gather upall our dreams\\n and set out in searchof something to find\\n ONE PIECE! Compasses only cause delays\\n Delirious with fever,I take the helm\\n If the dusty treasure map hasbeen verified, it\\'s not a legend! When it comes to personal storms,\\n simply ride aboardsomeone else\\'s biorhythm\\n and pretend it isn\\'t there! We\\'re going to gather upall our dreams\\n and set out in searchof something to find\\n A coin in my pocket,and do you wanna be my friend? We are, We are on the cruise! We are! Whoa...\\n \"I\\'m Luffy! The Man Who\\'sGonna be King of the Pirates!\" No worries! A whirlpool of that sizeposes no problem to this ship! Miss. May I have this dance? Alright!',\n",
       " \"Not again...\\n Batter out! What're you doing? You suck! This thing's heavy! Must be filled with booze, then! It's all ours now! Ship off the starboard stern! There's a pirate flag on its mast! It's a pirate ship!Enemy raid! Enemy raid! Captain! Pirates! What?! Everyone, stay calm! Stay calm! Follow instructionsin a calm manner! Fire! Coby! Y-Yes, ma'am?! Who's the most beautifulof all on these seas?\"]"
      ]
     },
     "execution_count": 21,
     "metadata": {},
     "output_type": "execute_result"
    }
   ],
   "source": [
    "script_batches[:2]"
   ]
  },
  {
   "cell_type": "code",
   "execution_count": 22,
   "metadata": {},
   "outputs": [],
   "source": [
    "theme_output = theme_classifier(\n",
    "    script_batches[:2],\n",
    "    theme_list,\n",
    "    multi_label=True\n",
    ")"
   ]
  },
  {
   "cell_type": "code",
   "execution_count": 23,
   "metadata": {},
   "outputs": [
    {
     "data": {
      "text/plain": [
       "[{'sequence': 'Wealth, fame, power...\\n Gold Roger,the King of the Pirates,\\n attained everythingthis world has to offer. The words he uttered just beforehis death drove people to the seas. My treasure?If you want it, you can have it! Find it! I left everythingthis world has to offer there! And so men head for theGrand Line in pursuit of their dreams! The world has trulyentered a Great Pirate Era! We\\'re going to gather upall our dreams\\n and set out in searchof something to find\\n ONE PIECE! Compasses only cause delays\\n Delirious with fever,I take the helm\\n If the dusty treasure map hasbeen verified, it\\'s not a legend! When it comes to personal storms,\\n simply ride aboardsomeone else\\'s biorhythm\\n and pretend it isn\\'t there! We\\'re going to gather upall our dreams\\n and set out in searchof something to find\\n A coin in my pocket,and do you wanna be my friend? We are, We are on the cruise! We are! Whoa...\\n \"I\\'m Luffy! The Man Who\\'sGonna be King of the Pirates!\" No worries! A whirlpool of that sizeposes no problem to this ship! Miss. May I have this dance? Alright!',\n",
       "  'labels': ['sacrifice',\n",
       "   'hope',\n",
       "   'firendship',\n",
       "   'seft development',\n",
       "   'battle',\n",
       "   'love'],\n",
       "  'scores': [0.9057953953742981,\n",
       "   0.8567900657653809,\n",
       "   0.7517769932746887,\n",
       "   0.6591837406158447,\n",
       "   0.4262317419052124,\n",
       "   0.10428591072559357]},\n",
       " {'sequence': \"Not again...\\n Batter out! What're you doing? You suck! This thing's heavy! Must be filled with booze, then! It's all ours now! Ship off the starboard stern! There's a pirate flag on its mast! It's a pirate ship!Enemy raid! Enemy raid! Captain! Pirates! What?! Everyone, stay calm! Stay calm! Follow instructionsin a calm manner! Fire! Coby! Y-Yes, ma'am?! Who's the most beautifulof all on these seas?\",\n",
       "  'labels': ['battle',\n",
       "   'sacrifice',\n",
       "   'seft development',\n",
       "   'firendship',\n",
       "   'hope',\n",
       "   'love'],\n",
       "  'scores': [0.9608948230743408,\n",
       "   0.5407331585884094,\n",
       "   0.4833446145057678,\n",
       "   0.046036247164011,\n",
       "   0.012777002528309822,\n",
       "   0.000596672878600657]}]"
      ]
     },
     "execution_count": 23,
     "metadata": {},
     "output_type": "execute_result"
    }
   ],
   "source": [
    "theme_output"
   ]
  },
  {
   "cell_type": "code",
   "execution_count": 24,
   "metadata": {},
   "outputs": [],
   "source": [
    "# Wrangle output\n",
    "themes = {}\n",
    "for output in theme_output:\n",
    "    for label, score in zip(output[\"labels\"], output[\"scores\"]):\n",
    "        if label not in themes:\n",
    "            themes[label] = []\n",
    "        themes[label].append(score)\n"
   ]
  },
  {
   "cell_type": "code",
   "execution_count": 25,
   "metadata": {},
   "outputs": [],
   "source": [
    "themes = {key: np.mean(np.array(value)) for key, value in themes.items()}"
   ]
  },
  {
   "cell_type": "code",
   "execution_count": 26,
   "metadata": {},
   "outputs": [
    {
     "data": {
      "text/plain": [
       "{'sacrifice': np.float64(0.7232642769813538),\n",
       " 'hope': np.float64(0.43478353414684534),\n",
       " 'firendship': np.float64(0.39890662021934986),\n",
       " 'seft development': np.float64(0.5712641775608063),\n",
       " 'battle': np.float64(0.6935632824897766),\n",
       " 'love': np.float64(0.05244129180209711)}"
      ]
     },
     "execution_count": 26,
     "metadata": {},
     "output_type": "execute_result"
    }
   ],
   "source": [
    "themes"
   ]
  },
  {
   "cell_type": "code",
   "execution_count": 27,
   "metadata": {},
   "outputs": [],
   "source": [
    "def get_theme_inference(script):\n",
    "    script_sentences = sent_tokenize(script)\n",
    "    \n",
    "    # Batch Sentence\n",
    "    sentence_batch_size = 20\n",
    "    script_batches = []\n",
    "    for index in range(0, len(script_sentences), sentence_batch_size):\n",
    "        sent = \" \".join(script_sentences[index:index+sentence_batch_size])\n",
    "        script_batches.append(sent)\n",
    "        \n",
    "    # Run Model\n",
    "    theme_output = theme_classifier(\n",
    "        script_batches[:2],\n",
    "        theme_list,\n",
    "        multi_label=True\n",
    "    )\n",
    "    \n",
    "    # Wrangle output\n",
    "    themes = {}\n",
    "    for output in theme_output:\n",
    "        for label, score in zip(output[\"labels\"], output[\"scores\"]):\n",
    "            if label not in themes:\n",
    "                themes[label] = []\n",
    "            themes[label].append(score)\n",
    "\n",
    "    themes = {key: np.mean(np.array(value)) for key, value in themes.items()}\n",
    "    \n",
    "    return themes"
   ]
  },
  {
   "cell_type": "code",
   "execution_count": 28,
   "metadata": {},
   "outputs": [],
   "source": [
    "df = df.head(2)"
   ]
  },
  {
   "cell_type": "code",
   "execution_count": 29,
   "metadata": {},
   "outputs": [
    {
     "data": {
      "text/html": [
       "<div>\n",
       "<style scoped>\n",
       "    .dataframe tbody tr th:only-of-type {\n",
       "        vertical-align: middle;\n",
       "    }\n",
       "\n",
       "    .dataframe tbody tr th {\n",
       "        vertical-align: top;\n",
       "    }\n",
       "\n",
       "    .dataframe thead th {\n",
       "        text-align: right;\n",
       "    }\n",
       "</style>\n",
       "<table border=\"1\" class=\"dataframe\">\n",
       "  <thead>\n",
       "    <tr style=\"text-align: right;\">\n",
       "      <th></th>\n",
       "      <th>episode</th>\n",
       "      <th>script</th>\n",
       "    </tr>\n",
       "  </thead>\n",
       "  <tbody>\n",
       "    <tr>\n",
       "      <th>0</th>\n",
       "      <td>1</td>\n",
       "      <td>Wealth, fame, power...\\n Gold Roger,the King o...</td>\n",
       "    </tr>\n",
       "    <tr>\n",
       "      <th>1</th>\n",
       "      <td>2</td>\n",
       "      <td>Wealth, fame, power...\\n Gold Roger,the King o...</td>\n",
       "    </tr>\n",
       "  </tbody>\n",
       "</table>\n",
       "</div>"
      ],
      "text/plain": [
       "   episode                                             script\n",
       "0        1  Wealth, fame, power...\\n Gold Roger,the King o...\n",
       "1        2  Wealth, fame, power...\\n Gold Roger,the King o..."
      ]
     },
     "execution_count": 29,
     "metadata": {},
     "output_type": "execute_result"
    }
   ],
   "source": [
    "df"
   ]
  },
  {
   "cell_type": "code",
   "execution_count": 30,
   "metadata": {},
   "outputs": [],
   "source": [
    "output_themes = df[\"script\"].apply(get_theme_inference)"
   ]
  },
  {
   "cell_type": "code",
   "execution_count": 31,
   "metadata": {},
   "outputs": [
    {
     "data": {
      "text/plain": [
       "0    {'sacrifice': 0.7232642769813538, 'hope': 0.43...\n",
       "1    {'sacrifice': 0.7232642769813538, 'hope': 0.43...\n",
       "Name: script, dtype: object"
      ]
     },
     "execution_count": 31,
     "metadata": {},
     "output_type": "execute_result"
    }
   ],
   "source": [
    "output_themes"
   ]
  },
  {
   "cell_type": "code",
   "execution_count": 32,
   "metadata": {},
   "outputs": [],
   "source": [
    "theme_df = pd.DataFrame(output_themes.to_list())"
   ]
  },
  {
   "cell_type": "code",
   "execution_count": 33,
   "metadata": {},
   "outputs": [
    {
     "data": {
      "text/html": [
       "<div>\n",
       "<style scoped>\n",
       "    .dataframe tbody tr th:only-of-type {\n",
       "        vertical-align: middle;\n",
       "    }\n",
       "\n",
       "    .dataframe tbody tr th {\n",
       "        vertical-align: top;\n",
       "    }\n",
       "\n",
       "    .dataframe thead th {\n",
       "        text-align: right;\n",
       "    }\n",
       "</style>\n",
       "<table border=\"1\" class=\"dataframe\">\n",
       "  <thead>\n",
       "    <tr style=\"text-align: right;\">\n",
       "      <th></th>\n",
       "      <th>sacrifice</th>\n",
       "      <th>hope</th>\n",
       "      <th>firendship</th>\n",
       "      <th>seft development</th>\n",
       "      <th>battle</th>\n",
       "      <th>love</th>\n",
       "    </tr>\n",
       "  </thead>\n",
       "  <tbody>\n",
       "    <tr>\n",
       "      <th>0</th>\n",
       "      <td>0.723264</td>\n",
       "      <td>0.434784</td>\n",
       "      <td>0.398907</td>\n",
       "      <td>0.571264</td>\n",
       "      <td>0.693563</td>\n",
       "      <td>0.052441</td>\n",
       "    </tr>\n",
       "    <tr>\n",
       "      <th>1</th>\n",
       "      <td>0.723264</td>\n",
       "      <td>0.434784</td>\n",
       "      <td>0.398907</td>\n",
       "      <td>0.571264</td>\n",
       "      <td>0.693563</td>\n",
       "      <td>0.052441</td>\n",
       "    </tr>\n",
       "  </tbody>\n",
       "</table>\n",
       "</div>"
      ],
      "text/plain": [
       "   sacrifice      hope  firendship  seft development    battle      love\n",
       "0   0.723264  0.434784    0.398907          0.571264  0.693563  0.052441\n",
       "1   0.723264  0.434784    0.398907          0.571264  0.693563  0.052441"
      ]
     },
     "execution_count": 33,
     "metadata": {},
     "output_type": "execute_result"
    }
   ],
   "source": [
    "theme_df"
   ]
  },
  {
   "cell_type": "code",
   "execution_count": 34,
   "metadata": {},
   "outputs": [
    {
     "data": {
      "text/html": [
       "<div>\n",
       "<style scoped>\n",
       "    .dataframe tbody tr th:only-of-type {\n",
       "        vertical-align: middle;\n",
       "    }\n",
       "\n",
       "    .dataframe tbody tr th {\n",
       "        vertical-align: top;\n",
       "    }\n",
       "\n",
       "    .dataframe thead th {\n",
       "        text-align: right;\n",
       "    }\n",
       "</style>\n",
       "<table border=\"1\" class=\"dataframe\">\n",
       "  <thead>\n",
       "    <tr style=\"text-align: right;\">\n",
       "      <th></th>\n",
       "      <th>episode</th>\n",
       "      <th>script</th>\n",
       "    </tr>\n",
       "  </thead>\n",
       "  <tbody>\n",
       "    <tr>\n",
       "      <th>0</th>\n",
       "      <td>1</td>\n",
       "      <td>Wealth, fame, power...\\n Gold Roger,the King o...</td>\n",
       "    </tr>\n",
       "    <tr>\n",
       "      <th>1</th>\n",
       "      <td>2</td>\n",
       "      <td>Wealth, fame, power...\\n Gold Roger,the King o...</td>\n",
       "    </tr>\n",
       "  </tbody>\n",
       "</table>\n",
       "</div>"
      ],
      "text/plain": [
       "   episode                                             script\n",
       "0        1  Wealth, fame, power...\\n Gold Roger,the King o...\n",
       "1        2  Wealth, fame, power...\\n Gold Roger,the King o..."
      ]
     },
     "execution_count": 34,
     "metadata": {},
     "output_type": "execute_result"
    }
   ],
   "source": [
    "df"
   ]
  },
  {
   "cell_type": "code",
   "execution_count": 35,
   "metadata": {},
   "outputs": [
    {
     "data": {
      "text/html": [
       "<div>\n",
       "<style scoped>\n",
       "    .dataframe tbody tr th:only-of-type {\n",
       "        vertical-align: middle;\n",
       "    }\n",
       "\n",
       "    .dataframe tbody tr th {\n",
       "        vertical-align: top;\n",
       "    }\n",
       "\n",
       "    .dataframe thead th {\n",
       "        text-align: right;\n",
       "    }\n",
       "</style>\n",
       "<table border=\"1\" class=\"dataframe\">\n",
       "  <thead>\n",
       "    <tr style=\"text-align: right;\">\n",
       "      <th></th>\n",
       "      <th>episode</th>\n",
       "      <th>script</th>\n",
       "      <th>sacrifice</th>\n",
       "      <th>hope</th>\n",
       "      <th>firendship</th>\n",
       "      <th>seft development</th>\n",
       "      <th>battle</th>\n",
       "      <th>love</th>\n",
       "    </tr>\n",
       "  </thead>\n",
       "  <tbody>\n",
       "    <tr>\n",
       "      <th>0</th>\n",
       "      <td>1</td>\n",
       "      <td>Wealth, fame, power...\\n Gold Roger,the King o...</td>\n",
       "      <td>0.723264</td>\n",
       "      <td>0.434784</td>\n",
       "      <td>0.398907</td>\n",
       "      <td>0.571264</td>\n",
       "      <td>0.693563</td>\n",
       "      <td>0.052441</td>\n",
       "    </tr>\n",
       "    <tr>\n",
       "      <th>1</th>\n",
       "      <td>2</td>\n",
       "      <td>Wealth, fame, power...\\n Gold Roger,the King o...</td>\n",
       "      <td>0.723264</td>\n",
       "      <td>0.434784</td>\n",
       "      <td>0.398907</td>\n",
       "      <td>0.571264</td>\n",
       "      <td>0.693563</td>\n",
       "      <td>0.052441</td>\n",
       "    </tr>\n",
       "  </tbody>\n",
       "</table>\n",
       "</div>"
      ],
      "text/plain": [
       "   episode                                             script  sacrifice  \\\n",
       "0        1  Wealth, fame, power...\\n Gold Roger,the King o...   0.723264   \n",
       "1        2  Wealth, fame, power...\\n Gold Roger,the King o...   0.723264   \n",
       "\n",
       "       hope  firendship  seft development    battle      love  \n",
       "0  0.434784    0.398907          0.571264  0.693563  0.052441  \n",
       "1  0.434784    0.398907          0.571264  0.693563  0.052441  "
      ]
     },
     "execution_count": 35,
     "metadata": {},
     "output_type": "execute_result"
    }
   ],
   "source": [
    "df[theme_df.columns] = theme_df\n",
    "df"
   ]
  },
  {
   "cell_type": "markdown",
   "metadata": {},
   "source": [
    "# Visualize output"
   ]
  },
  {
   "cell_type": "code",
   "execution_count": 49,
   "metadata": {},
   "outputs": [],
   "source": [
    "# df = df.drop(\"sacrifice\", axis=1)"
   ]
  },
  {
   "cell_type": "code",
   "execution_count": 50,
   "metadata": {},
   "outputs": [
    {
     "data": {
      "text/html": [
       "<div>\n",
       "<style scoped>\n",
       "    .dataframe tbody tr th:only-of-type {\n",
       "        vertical-align: middle;\n",
       "    }\n",
       "\n",
       "    .dataframe tbody tr th {\n",
       "        vertical-align: top;\n",
       "    }\n",
       "\n",
       "    .dataframe thead th {\n",
       "        text-align: right;\n",
       "    }\n",
       "</style>\n",
       "<table border=\"1\" class=\"dataframe\">\n",
       "  <thead>\n",
       "    <tr style=\"text-align: right;\">\n",
       "      <th></th>\n",
       "      <th>theme</th>\n",
       "      <th>score</th>\n",
       "    </tr>\n",
       "  </thead>\n",
       "  <tbody>\n",
       "    <tr>\n",
       "      <th>0</th>\n",
       "      <td>hope</td>\n",
       "      <td>0.869567</td>\n",
       "    </tr>\n",
       "    <tr>\n",
       "      <th>1</th>\n",
       "      <td>firendship</td>\n",
       "      <td>0.797813</td>\n",
       "    </tr>\n",
       "    <tr>\n",
       "      <th>2</th>\n",
       "      <td>seft development</td>\n",
       "      <td>1.142528</td>\n",
       "    </tr>\n",
       "    <tr>\n",
       "      <th>3</th>\n",
       "      <td>battle</td>\n",
       "      <td>1.387127</td>\n",
       "    </tr>\n",
       "    <tr>\n",
       "      <th>4</th>\n",
       "      <td>love</td>\n",
       "      <td>0.104883</td>\n",
       "    </tr>\n",
       "  </tbody>\n",
       "</table>\n",
       "</div>"
      ],
      "text/plain": [
       "              theme     score\n",
       "0              hope  0.869567\n",
       "1        firendship  0.797813\n",
       "2  seft development  1.142528\n",
       "3            battle  1.387127\n",
       "4              love  0.104883"
      ]
     },
     "execution_count": 50,
     "metadata": {},
     "output_type": "execute_result"
    }
   ],
   "source": [
    "theme_output = df.drop(['episode', 'script'], axis=1).sum().reset_index()\n",
    "theme_output.columns = ['theme', 'score']\n",
    "theme_output"
   ]
  },
  {
   "cell_type": "code",
   "execution_count": 51,
   "metadata": {},
   "outputs": [],
   "source": [
    "import matplotlib.pyplot as plt\n",
    "import seaborn as sns"
   ]
  },
  {
   "cell_type": "code",
   "execution_count": 52,
   "metadata": {},
   "outputs": [
    {
     "data": {
      "image/png": "[encoded data removed]",
      "text/plain": [
       "<Figure size 640x480 with 1 Axes>"
      ]
     },
     "metadata": {},
     "output_type": "display_data"
    }
   ],
   "source": [
    "sns.barplot(data=theme_output, x=\"theme\", y=\"score\")\n",
    "plt.xticks(rotation=45)\n",
    "plt.show()"
   ]
  }
 ],
 "metadata": {
  "kernelspec": {
   "display_name": "venv",
   "language": "python",
   "name": "python3"
  },
  "language_info": {
   "codemirror_mode": {
    "name": "ipython",
    "version": 3
   },
   "file_extension": ".py",
   "mimetype": "text/x-python",
   "name": "python",
   "nbconvert_exporter": "python",
   "pygments_lexer": "ipython3",
   "version": "3.12.4"
  }
 },
 "nbformat": 4,
 "nbformat_minor": 2
}
